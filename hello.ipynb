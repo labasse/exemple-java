{
 "cells": [
  {
   "cell_type": "markdown",
   "metadata": {},
   "source": [
    "# Simple Hello World"
   ]
  },
  {
   "cell_type": "markdown",
   "metadata": {},
   "source": [
    "Ci-dessous un *petit* programme **sympa**.\n"
   ]
  },
  {
   "cell_type": "markdown",
   "metadata": {},
   "source": [
    "## Première version"
   ]
  },
  {
   "cell_type": "code",
   "execution_count": 7,
   "metadata": {},
   "outputs": [
    {
     "name": "stdout",
     "output_type": "stream",
     "text": [
      "Bonjour Sylvain !\n",
      "Bonjour Sylvain ! C'est bientôt fini.\n"
     ]
    }
   ],
   "source": [
    "String message = \"Hello\";\n",
    "int x, y; // Future position\n",
    "double totalPrix;   \n",
    "\n",
    "//  message = 1; provoque une erreur\n",
    "message = \"Bonjour\";\n",
    "\n",
    "message = message + \" Sylvain !\"; // ou message += \" Sylvain !\";\n",
    "\n",
    "System.out.println(message);\n",
    "\n",
    "message = message + \" C'est bientôt fini.\";\n",
    "\n",
    "System.out.println(message);\n"
   ]
  },
  {
   "cell_type": "markdown",
   "metadata": {},
   "source": [
    "## Seconde version\n"
   ]
  },
  {
   "cell_type": "markdown",
   "metadata": {},
   "source": [
    "\n",
    "### Avant de commencer"
   ]
  }
 ],
 "metadata": {
  "kernelspec": {
   "display_name": "Java (rjk 2.2.0)",
   "language": "java",
   "name": "rapaio-jupyter-kernel"
  },
  "language_info": {
   "codemirror_mode": "java",
   "file_extension": ".jshell",
   "mimetype": "text/x-java-source",
   "name": "java",
   "nbconvert_exporter": "script",
   "pygments_lexer": "java",
   "version": "21.0.5+11-LTS"
  }
 },
 "nbformat": 4,
 "nbformat_minor": 2
}
